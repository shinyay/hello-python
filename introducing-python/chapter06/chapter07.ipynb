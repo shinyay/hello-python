{
 "cells": [
  {
   "cell_type": "markdown",
   "id": "d5fb4868-f067-4d6a-94b4-d985e65ef1de",
   "metadata": {},
   "source": [
    "# Chapter 7 - Tuple and List\n",
    "- **Tuple**: Immutable\n",
    "- **List**: Mutable"
   ]
  },
  {
   "cell_type": "code",
   "execution_count": 4,
   "id": "dc16eebf-42d9-429b-a91e-303ae7697420",
   "metadata": {},
   "outputs": [
    {
     "data": {
      "text/plain": [
       "()"
      ]
     },
     "execution_count": 4,
     "metadata": {},
     "output_type": "execute_result"
    }
   ],
   "source": [
    "empty_tuple = ()\n",
    "empty_tuple"
   ]
  },
  {
   "cell_type": "code",
   "execution_count": null,
   "id": "bf1d59c5-6a6b-4c72-8c84-98f8d92aace7",
   "metadata": {},
   "outputs": [],
   "source": []
  }
 ],
 "metadata": {
  "kernelspec": {
   "display_name": "Python 3 (ipykernel)",
   "language": "python",
   "name": "python3"
  },
  "language_info": {
   "codemirror_mode": {
    "name": "ipython",
    "version": 3
   },
   "file_extension": ".py",
   "mimetype": "text/x-python",
   "name": "python",
   "nbconvert_exporter": "python",
   "pygments_lexer": "ipython3",
   "version": "3.12.0"
  }
 },
 "nbformat": 4,
 "nbformat_minor": 5
}

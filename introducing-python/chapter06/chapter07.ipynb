{
 "cells": [
  {
   "cell_type": "markdown",
   "id": "d5fb4868-f067-4d6a-94b4-d985e65ef1de",
   "metadata": {},
   "source": [
    "# Chapter 7 - Tuple and List\n",
    "- **Tuple**: Immutable\n",
    "- **List**: Mutable"
   ]
  },
  {
   "cell_type": "markdown",
   "id": "97cc84e9-6725-4125-a7c0-a804468f92aa",
   "metadata": {},
   "source": [
    "## Tuple"
   ]
  },
  {
   "cell_type": "code",
   "execution_count": 4,
   "id": "dc16eebf-42d9-429b-a91e-303ae7697420",
   "metadata": {},
   "outputs": [
    {
     "data": {
      "text/plain": [
       "()"
      ]
     },
     "execution_count": 4,
     "metadata": {},
     "output_type": "execute_result"
    }
   ],
   "source": [
    "empty_tuple = ()\n",
    "empty_tuple"
   ]
  },
  {
   "cell_type": "code",
   "execution_count": 7,
   "id": "bf1d59c5-6a6b-4c72-8c84-98f8d92aace7",
   "metadata": {},
   "outputs": [
    {
     "data": {
      "text/plain": [
       "('developers', 'developers', 'developers')"
      ]
     },
     "execution_count": 7,
     "metadata": {},
     "output_type": "execute_result"
    }
   ],
   "source": [
    "developers = 'developers',\n",
    "developers\n",
    "developers * 3"
   ]
  },
  {
   "cell_type": "code",
   "execution_count": 13,
   "id": "7d54ab7c-686d-4af5-8cf6-7e410fef1835",
   "metadata": {},
   "outputs": [
    {
     "name": "stdout",
     "output_type": "stream",
     "text": [
      "False\n",
      "True\n"
     ]
    }
   ],
   "source": [
    "small = ('a', 'b', 'c')\n",
    "big = ('A','B','C','D','E')\n",
    "result = small == big\n",
    "print(result)\n",
    "result = small > big\n",
    "print(result)"
   ]
  },
  {
   "cell_type": "code",
   "execution_count": 14,
   "id": "6f3aa9da-4b71-490a-8b5f-8fbe55b6afda",
   "metadata": {},
   "outputs": [
    {
     "data": {
      "text/plain": [
       "('a', 'b', 'c', 'A', 'B', 'C', 'D', 'E')"
      ]
     },
     "execution_count": 14,
     "metadata": {},
     "output_type": "execute_result"
    }
   ],
   "source": [
    "char_tuple = small + big\n",
    "char_tuple"
   ]
  },
  {
   "cell_type": "markdown",
   "id": "53c7029f-db29-47b9-9a17-a65e34cd9ad1",
   "metadata": {},
   "source": [
    "## List"
   ]
  },
  {
   "cell_type": "code",
   "execution_count": 15,
   "id": "22c934e9-eb22-45f1-8c44-4183fcad6e04",
   "metadata": {},
   "outputs": [
    {
     "data": {
      "text/plain": [
       "[]"
      ]
     },
     "execution_count": 15,
     "metadata": {},
     "output_type": "execute_result"
    }
   ],
   "source": [
    "empty_list = []\n",
    "empty_list"
   ]
  },
  {
   "cell_type": "code",
   "execution_count": 38,
   "id": "3a44f8c3-e8d6-4141-aebc-ddd851e5a73c",
   "metadata": {},
   "outputs": [
    {
     "data": {
      "text/plain": [
       "['H', 'e', 'l', 'l', 'o']"
      ]
     },
     "execution_count": 38,
     "metadata": {},
     "output_type": "execute_result"
    }
   ],
   "source": [
    "hello_list = list('Hello')\n",
    "hello_list"
   ]
  },
  {
   "cell_type": "code",
   "execution_count": 17,
   "id": "44b77893-b9f3-4ae7-bf23-012bfad3ec85",
   "metadata": {},
   "outputs": [
    {
     "data": {
      "text/plain": [
       "['Nov', '27', '2024']"
      ]
     },
     "execution_count": 17,
     "metadata": {},
     "output_type": "execute_result"
    }
   ],
   "source": [
    "today = 'Nov-27-2024'\n",
    "date_list = today.split('-')\n",
    "date_list"
   ]
  },
  {
   "cell_type": "code",
   "execution_count": 31,
   "id": "17217912-a1a2-4ca2-93fa-64082a8acea0",
   "metadata": {},
   "outputs": [
    {
     "data": {
      "text/plain": [
       "['H', 'e', 'l']"
      ]
     },
     "execution_count": 31,
     "metadata": {},
     "output_type": "execute_result"
    }
   ],
   "source": [
    "sliced_list = hello_list[0:3]\n",
    "sliced_list"
   ]
  },
  {
   "cell_type": "code",
   "execution_count": 41,
   "id": "f8a68341-99ea-4168-ae2e-6e106b5a04f2",
   "metadata": {},
   "outputs": [
    {
     "data": {
      "text/plain": [
       "['H', 'e', 'l', 'l', 'o', 'Python', 'Python', 'Python']"
      ]
     },
     "execution_count": 41,
     "metadata": {},
     "output_type": "execute_result"
    }
   ],
   "source": [
    "hello_list.append('Python')\n",
    "hello_list"
   ]
  },
  {
   "cell_type": "code",
   "execution_count": 42,
   "id": "43517e3e-6027-4d42-ab10-6b54e5c32b85",
   "metadata": {},
   "outputs": [
    {
     "data": {
      "text/plain": [
       "['H', 'e', 'l', 'l', 'o', ',', 'Python', 'Python', 'Python']"
      ]
     },
     "execution_count": 42,
     "metadata": {},
     "output_type": "execute_result"
    }
   ],
   "source": [
    "hello_list.insert(5, ',')\n",
    "hello_list"
   ]
  },
  {
   "cell_type": "code",
   "execution_count": 43,
   "id": "fd4d4688-1f97-4d89-9f06-15154c99508e",
   "metadata": {},
   "outputs": [
    {
     "data": {
      "text/plain": [
       "['H', 'e', 'l', 'l', 'o', ',', 'Python', 'Python']"
      ]
     },
     "execution_count": 43,
     "metadata": {},
     "output_type": "execute_result"
    }
   ],
   "source": [
    "hello_list.pop()\n",
    "hello_list"
   ]
  },
  {
   "cell_type": "code",
   "execution_count": 47,
   "id": "67e0125b-e36a-4fb0-91d6-e16eec67a9ae",
   "metadata": {},
   "outputs": [
    {
     "name": "stdout",
     "output_type": "stream",
     "text": [
      "by copy(): ['H', 'e', 'l', 'l', 'o', ',', 'Python', 'Python']\n",
      "by list(): ['H', 'e', 'l', 'l', 'o', ',', 'Python', 'Python']\n",
      "by slice : ['H', 'e', 'l', 'l', 'o', ',', 'Python', 'Python']\n"
     ]
    }
   ],
   "source": [
    "copied_helo_a = hello_list.copy()\n",
    "copied_helo_b = list(hello_list)\n",
    "copied_helo_c = hello_list[:]\n",
    "print(\"by copy(): {}\".format(copied_helo_a))\n",
    "print(\"by list(): {}\".format(copied_helo_b))\n",
    "print(\"by slice : {}\".format(copied_helo_c))"
   ]
  },
  {
   "cell_type": "markdown",
   "id": "7a73d718-4702-4d0d-9556-cf073436fdbe",
   "metadata": {},
   "source": [
    "- Shallow Copy\n",
    "- Deep Copy: `deepcopy`"
   ]
  }
 ],
 "metadata": {
  "kernelspec": {
   "display_name": "Python 3 (ipykernel)",
   "language": "python",
   "name": "python3"
  },
  "language_info": {
   "codemirror_mode": {
    "name": "ipython",
    "version": 3
   },
   "file_extension": ".py",
   "mimetype": "text/x-python",
   "name": "python",
   "nbconvert_exporter": "python",
   "pygments_lexer": "ipython3",
   "version": "3.12.0"
  }
 },
 "nbformat": 4,
 "nbformat_minor": 5
}

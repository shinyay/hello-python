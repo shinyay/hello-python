{
 "cells": [
  {
   "cell_type": "markdown",
   "id": "d5fb4868-f067-4d6a-94b4-d985e65ef1de",
   "metadata": {},
   "source": [
    "# Chapter 7 - Tuple and List\n",
    "- **Tuple**: Immutable\n",
    "- **List**: Mutable"
   ]
  },
  {
   "cell_type": "markdown",
   "id": "97cc84e9-6725-4125-a7c0-a804468f92aa",
   "metadata": {},
   "source": [
    "## Tuple"
   ]
  },
  {
   "cell_type": "code",
   "execution_count": 4,
   "id": "dc16eebf-42d9-429b-a91e-303ae7697420",
   "metadata": {},
   "outputs": [
    {
     "data": {
      "text/plain": [
       "()"
      ]
     },
     "execution_count": 4,
     "metadata": {},
     "output_type": "execute_result"
    }
   ],
   "source": [
    "empty_tuple = ()\n",
    "empty_tuple"
   ]
  },
  {
   "cell_type": "code",
   "execution_count": 7,
   "id": "bf1d59c5-6a6b-4c72-8c84-98f8d92aace7",
   "metadata": {},
   "outputs": [
    {
     "data": {
      "text/plain": [
       "('developers', 'developers', 'developers')"
      ]
     },
     "execution_count": 7,
     "metadata": {},
     "output_type": "execute_result"
    }
   ],
   "source": [
    "developers = 'developers',\n",
    "developers\n",
    "developers * 3"
   ]
  },
  {
   "cell_type": "code",
   "execution_count": 13,
   "id": "7d54ab7c-686d-4af5-8cf6-7e410fef1835",
   "metadata": {},
   "outputs": [
    {
     "name": "stdout",
     "output_type": "stream",
     "text": [
      "False\n",
      "True\n"
     ]
    }
   ],
   "source": [
    "small = ('a', 'b', 'c')\n",
    "big = ('A','B','C','D','E')\n",
    "result = small == big\n",
    "print(result)\n",
    "result = small > big\n",
    "print(result)"
   ]
  },
  {
   "cell_type": "code",
   "execution_count": 14,
   "id": "6f3aa9da-4b71-490a-8b5f-8fbe55b6afda",
   "metadata": {},
   "outputs": [
    {
     "data": {
      "text/plain": [
       "('a', 'b', 'c', 'A', 'B', 'C', 'D', 'E')"
      ]
     },
     "execution_count": 14,
     "metadata": {},
     "output_type": "execute_result"
    }
   ],
   "source": [
    "char_tuple = small + big\n",
    "char_tuple"
   ]
  },
  {
   "cell_type": "markdown",
   "id": "53c7029f-db29-47b9-9a17-a65e34cd9ad1",
   "metadata": {},
   "source": [
    "## List"
   ]
  },
  {
   "cell_type": "code",
   "execution_count": 15,
   "id": "22c934e9-eb22-45f1-8c44-4183fcad6e04",
   "metadata": {},
   "outputs": [
    {
     "data": {
      "text/plain": [
       "[]"
      ]
     },
     "execution_count": 15,
     "metadata": {},
     "output_type": "execute_result"
    }
   ],
   "source": [
    "empty_list = []\n",
    "empty_list"
   ]
  },
  {
   "cell_type": "code",
   "execution_count": 16,
   "id": "3a44f8c3-e8d6-4141-aebc-ddd851e5a73c",
   "metadata": {},
   "outputs": [
    {
     "data": {
      "text/plain": [
       "['H', 'e', 'l', 'l', 'o']"
      ]
     },
     "execution_count": 16,
     "metadata": {},
     "output_type": "execute_result"
    }
   ],
   "source": [
    "hello_list = list('Hello')\n",
    "hello_list"
   ]
  }
 ],
 "metadata": {
  "kernelspec": {
   "display_name": "Python 3 (ipykernel)",
   "language": "python",
   "name": "python3"
  },
  "language_info": {
   "codemirror_mode": {
    "name": "ipython",
    "version": 3
   },
   "file_extension": ".py",
   "mimetype": "text/x-python",
   "name": "python",
   "nbconvert_exporter": "python",
   "pygments_lexer": "ipython3",
   "version": "3.12.0"
  }
 },
 "nbformat": 4,
 "nbformat_minor": 5
}

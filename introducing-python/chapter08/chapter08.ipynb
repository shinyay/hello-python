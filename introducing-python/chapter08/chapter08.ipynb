{
 "cells": [
  {
   "cell_type": "markdown",
   "id": "221e9ef6-f517-4567-8906-d920f1b312e1",
   "metadata": {},
   "source": [
    "# Chapter 8 - Dictionaries and Sets"
   ]
  },
  {
   "cell_type": "markdown",
   "id": "dbc919fd-141d-43eb-b308-0da28f0d6800",
   "metadata": {},
   "source": [
    "## Dictionaries"
   ]
  },
  {
   "cell_type": "code",
   "execution_count": 2,
   "id": "64e37e43-8071-4915-90c5-d2f61538d631",
   "metadata": {},
   "outputs": [
    {
     "data": {
      "text/plain": [
       "{}"
      ]
     },
     "execution_count": 2,
     "metadata": {},
     "output_type": "execute_result"
    }
   ],
   "source": [
    "empty_dict = {}\n",
    "empty_dict"
   ]
  },
  {
   "cell_type": "code",
   "execution_count": 4,
   "id": "ad57959c-43dc-46c8-bea2-f4b4b11024a8",
   "metadata": {},
   "outputs": [
    {
     "data": {
      "text/plain": [
       "{'MON': 'Monday', 'TUE': 'Tuesday', 'WED': 'Wednesday'}"
      ]
     },
     "execution_count": 4,
     "metadata": {},
     "output_type": "execute_result"
    }
   ],
   "source": [
    "week = {\n",
    "    'MON': 'Monday',\n",
    "    'TUE': 'Tuesday',\n",
    "    'WED': 'Wednesday',\n",
    "}\n",
    "week"
   ]
  },
  {
   "cell_type": "code",
   "execution_count": 5,
   "id": "3ea6c687-5692-48af-a931-7e360b257845",
   "metadata": {},
   "outputs": [
    {
     "data": {
      "text/plain": [
       "{'MON': 'Monday', 'TUE': 'Tuesday', 'WED': 'Wednesday', 'THU': 'Thursday'}"
      ]
     },
     "execution_count": 5,
     "metadata": {},
     "output_type": "execute_result"
    }
   ],
   "source": [
    "week['THU'] = 'Thursday'\n",
    "week"
   ]
  }
 ],
 "metadata": {
  "kernelspec": {
   "display_name": "Python 3 (ipykernel)",
   "language": "python",
   "name": "python3"
  },
  "language_info": {
   "codemirror_mode": {
    "name": "ipython",
    "version": 3
   },
   "file_extension": ".py",
   "mimetype": "text/x-python",
   "name": "python",
   "nbconvert_exporter": "python",
   "pygments_lexer": "ipython3",
   "version": "3.12.0"
  }
 },
 "nbformat": 4,
 "nbformat_minor": 5
}

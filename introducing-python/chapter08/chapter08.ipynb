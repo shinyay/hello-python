{
 "cells": [
  {
   "cell_type": "markdown",
   "id": "221e9ef6-f517-4567-8906-d920f1b312e1",
   "metadata": {},
   "source": [
    "# Chapter 8 - Dictionaries and Sets"
   ]
  },
  {
   "cell_type": "markdown",
   "id": "dbc919fd-141d-43eb-b308-0da28f0d6800",
   "metadata": {},
   "source": [
    "## Dictionaries"
   ]
  },
  {
   "cell_type": "code",
   "execution_count": null,
   "id": "64e37e43-8071-4915-90c5-d2f61538d631",
   "metadata": {},
   "outputs": [],
   "source": []
  }
 ],
 "metadata": {
  "kernelspec": {
   "display_name": "Python 3 (ipykernel)",
   "language": "python",
   "name": "python3"
  },
  "language_info": {
   "codemirror_mode": {
    "name": "ipython",
    "version": 3
   },
   "file_extension": ".py",
   "mimetype": "text/x-python",
   "name": "python",
   "nbconvert_exporter": "python",
   "pygments_lexer": "ipython3",
   "version": "3.12.0"
  }
 },
 "nbformat": 4,
 "nbformat_minor": 5
}

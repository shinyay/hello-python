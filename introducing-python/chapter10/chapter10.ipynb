{
 "cells": [
  {
   "cell_type": "markdown",
   "id": "65c538e6-1e4f-4af0-bac4-62fbb403e422",
   "metadata": {},
   "source": [
    "# Chapter 7 - Object and Class"
   ]
  },
  {
   "cell_type": "code",
   "execution_count": 1,
   "id": "50a5ea55-5a14-4d0b-a3af-9da88830b88e",
   "metadata": {},
   "outputs": [],
   "source": [
    "class Dog:\n",
    "    pass\n",
    "\n",
    "beagle = Dog()\n",
    "dalmatian = Dog()e\n",
    "\n",
    "beagle.name = 'Max'\n",
    "beagle.age = 3"
   ]
  },
  {
   "cell_type": "code",
   "execution_count": 2,
   "id": "47173aa6-847f-4645-82b6-630616b83b63",
   "metadata": {},
   "outputs": [
    {
     "data": {
      "text/plain": [
       "<__main__.Dog at 0x10a1126f0>"
      ]
     },
     "execution_count": 2,
     "metadata": {},
     "output_type": "execute_result"
    }
   ],
   "source": [
    "beagle"
   ]
  },
  {
   "cell_type": "code",
   "execution_count": 3,
   "id": "4e8badb7-3cd8-4ebd-a7f4-f3d51ca256de",
   "metadata": {},
   "outputs": [
    {
     "data": {
      "text/plain": [
       "<__main__.Dog at 0x10a1113d0>"
      ]
     },
     "execution_count": 3,
     "metadata": {},
     "output_type": "execute_result"
    }
   ],
   "source": [
    "dalmatian"
   ]
  },
  {
   "cell_type": "code",
   "execution_count": 8,
   "id": "eb029625-5e73-493a-999c-ae293eeda597",
   "metadata": {},
   "outputs": [
    {
     "data": {
      "text/plain": [
       "'Max'"
      ]
     },
     "execution_count": 8,
     "metadata": {},
     "output_type": "execute_result"
    }
   ],
   "source": [
    "beagle.name"
   ]
  },
  {
   "cell_type": "code",
   "execution_count": 7,
   "id": "8ba8facf-a574-41cb-841f-19caccb754b9",
   "metadata": {},
   "outputs": [
    {
     "data": {
      "text/plain": [
       "3"
      ]
     },
     "execution_count": 7,
     "metadata": {},
     "output_type": "execute_result"
    }
   ],
   "source": [
    "beagle.age"
   ]
  }
 ],
 "metadata": {
  "kernelspec": {
   "display_name": "Python 3 (ipykernel)",
   "language": "python",
   "name": "python3"
  },
  "language_info": {
   "codemirror_mode": {
    "name": "ipython",
    "version": 3
   },
   "file_extension": ".py",
   "mimetype": "text/x-python",
   "name": "python",
   "nbconvert_exporter": "python",
   "pygments_lexer": "ipython3",
   "version": "3.12.1"
  }
 },
 "nbformat": 4,
 "nbformat_minor": 5
}

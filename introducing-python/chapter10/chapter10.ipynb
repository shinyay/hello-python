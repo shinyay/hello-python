{
 "cells": [
  {
   "cell_type": "markdown",
   "id": "65c538e6-1e4f-4af0-bac4-62fbb403e422",
   "metadata": {},
   "source": [
    "# Chapter 7 - Object and Class"
   ]
  },
  {
   "cell_type": "code",
   "execution_count": 12,
   "id": "50a5ea55-5a14-4d0b-a3af-9da88830b88e",
   "metadata": {},
   "outputs": [],
   "source": [
    "class Dog:\n",
    "    pass\n",
    "\n",
    "beagle = Dog()\n",
    "dalmatian = Dog()\n",
    "\n",
    "beagle.name = 'Max'\n",
    "beagle.age = 3"
   ]
  },
  {
   "cell_type": "code",
   "execution_count": 2,
   "id": "47173aa6-847f-4645-82b6-630616b83b63",
   "metadata": {},
   "outputs": [
    {
     "data": {
      "text/plain": [
       "<__main__.Dog at 0x10a1126f0>"
      ]
     },
     "execution_count": 2,
     "metadata": {},
     "output_type": "execute_result"
    }
   ],
   "source": [
    "beagle"
   ]
  },
  {
   "cell_type": "code",
   "execution_count": 3,
   "id": "4e8badb7-3cd8-4ebd-a7f4-f3d51ca256de",
   "metadata": {},
   "outputs": [
    {
     "data": {
      "text/plain": [
       "<__main__.Dog at 0x10a1113d0>"
      ]
     },
     "execution_count": 3,
     "metadata": {},
     "output_type": "execute_result"
    }
   ],
   "source": [
    "dalmatian"
   ]
  },
  {
   "cell_type": "code",
   "execution_count": 8,
   "id": "eb029625-5e73-493a-999c-ae293eeda597",
   "metadata": {},
   "outputs": [
    {
     "data": {
      "text/plain": [
       "'Max'"
      ]
     },
     "execution_count": 8,
     "metadata": {},
     "output_type": "execute_result"
    }
   ],
   "source": [
    "beagle.name"
   ]
  },
  {
   "cell_type": "code",
   "execution_count": 9,
   "id": "8ba8facf-a574-41cb-841f-19caccb754b9",
   "metadata": {},
   "outputs": [
    {
     "data": {
      "text/plain": [
       "3"
      ]
     },
     "execution_count": 9,
     "metadata": {},
     "output_type": "execute_result"
    }
   ],
   "source": [
    "beagle.age"
   ]
  },
  {
   "cell_type": "code",
   "execution_count": 13,
   "id": "9a4ae2e6-2196-429e-aff2-507a603dd82a",
   "metadata": {},
   "outputs": [],
   "source": [
    "class Cat:\n",
    "    def __init__(self, name):\n",
    "        self.name = name"
   ]
  },
  {
   "cell_type": "code",
   "execution_count": 15,
   "id": "bc4c7064-fc03-4031-b758-4a618dd6670a",
   "metadata": {},
   "outputs": [
    {
     "data": {
      "text/plain": [
       "'kit'"
      ]
     },
     "execution_count": 15,
     "metadata": {},
     "output_type": "execute_result"
    }
   ],
   "source": [
    "percian = Cat('kit')\n",
    "percian.name"
   ]
  },
  {
   "cell_type": "markdown",
   "id": "3b41c9a4-066d-4f29-b756-84d3993aadab",
   "metadata": {},
   "source": [
    "## Inheritance"
   ]
  },
  {
   "cell_type": "code",
   "execution_count": 30,
   "id": "8ce45e8a-7d6e-4826-9f64-b296ba1c7fd1",
   "metadata": {},
   "outputs": [],
   "source": [
    "class Animal:\n",
    "    def hello(self):\n",
    "        print(\"Hello, I'm an Animal\")\n",
    "\n",
    "class Bird(Animal):\n",
    "    def hello(self):\n",
    "        print(\"Hello, I'm a Bird\")\n",
    "\n",
    "class Human(Animal):\n",
    "    def hello(self):\n",
    "        print(\"Hello, I'm a Human\")\n",
    "    def hello_from_ancestor(self):\n",
    "        super().hello()"
   ]
  },
  {
   "cell_type": "code",
   "execution_count": 17,
   "id": "8531ca22-1f25-4913-935e-434d2393c480",
   "metadata": {},
   "outputs": [
    {
     "data": {
      "text/plain": [
       "True"
      ]
     },
     "execution_count": 17,
     "metadata": {},
     "output_type": "execute_result"
    }
   ],
   "source": [
    "issubclass(Bird, Animal)"
   ]
  },
  {
   "cell_type": "code",
   "execution_count": 22,
   "id": "225f61f4-0924-4ec1-8fb4-09c6061f923c",
   "metadata": {},
   "outputs": [
    {
     "name": "stdout",
     "output_type": "stream",
     "text": [
      "Hello, I'm Animal\n"
     ]
    }
   ],
   "source": [
    "animal_instance = Animal()\n",
    "animal_instance.hello()"
   ]
  },
  {
   "cell_type": "code",
   "execution_count": 26,
   "id": "5458396f-de9f-44d7-9f6a-4005015c08d9",
   "metadata": {},
   "outputs": [
    {
     "name": "stdout",
     "output_type": "stream",
     "text": [
      "Hello, I'm Bird\n"
     ]
    }
   ],
   "source": [
    "bird_instance = Bird()\n",
    "bird_instance.hello()"
   ]
  },
  {
   "cell_type": "code",
   "execution_count": 31,
   "id": "7ff3363d-5fcf-403b-b80a-a6de58d877cb",
   "metadata": {},
   "outputs": [
    {
     "name": "stdout",
     "output_type": "stream",
     "text": [
      "Hello, I'm an Animal\n"
     ]
    }
   ],
   "source": [
    "human = Human()\n",
    "human.hello_from_ancestor()"
   ]
  },
  {
   "cell_type": "markdown",
   "id": "75cdbdd9-8bc4-422b-95bf-9379f614c326",
   "metadata": {},
   "source": [
    "## Accessor"
   ]
  },
  {
   "cell_type": "markdown",
   "id": "0e3419cf-4350-4d93-8ed5-079ea42118b2",
   "metadata": {},
   "source": [
    "## Property\n",
    "- `attribute` = `property(getter, setter)`"
   ]
  },
  {
   "cell_type": "markdown",
   "id": "5a59b17f-70fd-4169-b909-fb30981522c8",
   "metadata": {},
   "source": [
    "## Decorator\n",
    "- `@property`   : decorator for **getter**\n",
    "- `@age.setter` : decorator for **setter** of `age`"
   ]
  },
  {
   "cell_type": "code",
   "execution_count": 48,
   "id": "59062a6c-4b75-4dec-8a90-cc5b3c52e0f7",
   "metadata": {},
   "outputs": [],
   "source": [
    "class Human(Animal):\n",
    "    def __init__(self):\n",
    "        pass\n",
    "    def hello(self):\n",
    "        print(\"Hello, I'm a Human\")\n",
    "    def get_name(self):\n",
    "        return self.name\n",
    "    def set_name(self, name):\n",
    "        self.name = name\n",
    "    name = property(get_name, set_name)\n",
    "    \n",
    "    @property\n",
    "    def age(self):\n",
    "        return self.age\n",
    "    @age.setter\n",
    "    def age(self, age):\n",
    "        self.afe = age"
   ]
  },
  {
   "cell_type": "code",
   "execution_count": 42,
   "id": "e46d92a7-3669-41ad-9e96-6e129fbfeccf",
   "metadata": {},
   "outputs": [
    {
     "name": "stdout",
     "output_type": "stream",
     "text": [
      "Hello, I'm a Human\n"
     ]
    },
    {
     "data": {
      "text/plain": [
       "'Shinya'"
      ]
     },
     "execution_count": 42,
     "metadata": {},
     "output_type": "execute_result"
    }
   ],
   "source": [
    "me = Human()\n",
    "me.hello()\n",
    "me.set_name('Shinya')\n",
    "me.get_name()"
   ]
  },
  {
   "cell_type": "code",
   "execution_count": 46,
   "id": "fafd63fc-f0a3-47c8-ab81-595294c5fcb8",
   "metadata": {},
   "outputs": [
    {
     "data": {
      "text/plain": [
       "'Yanagihara'"
      ]
     },
     "execution_count": 46,
     "metadata": {},
     "output_type": "execute_result"
    }
   ],
   "source": [
    "me.name = 'Yanagihara'\n",
    "me.name"
   ]
  },
  {
   "cell_type": "code",
   "execution_count": 49,
   "id": "5859936f-34c0-4ff4-9cfd-c45d5c9b43bd",
   "metadata": {},
   "outputs": [
    {
     "data": {
      "text/plain": [
       "20"
      ]
     },
     "execution_count": 49,
     "metadata": {},
     "output_type": "execute_result"
    }
   ],
   "source": [
    "me.age = 20\n",
    "me.age"
   ]
  },
  {
   "cell_type": "code",
   "execution_count": 1,
   "id": "6a0bd4ce-b6c2-48af-bb19-1636e3618174",
   "metadata": {},
   "outputs": [],
   "source": [
    "class Cube:\n",
    "    def __init__(self, side):\n",
    "        self.side = side\n",
    "    @property\n",
    "    def volume(self):\n",
    "        return self.side * self.side * self.side"
   ]
  },
  {
   "cell_type": "code",
   "execution_count": 2,
   "id": "19fefe05-64bc-487a-8057-198adb941b23",
   "metadata": {},
   "outputs": [
    {
     "data": {
      "text/plain": [
       "27"
      ]
     },
     "execution_count": 2,
     "metadata": {},
     "output_type": "execute_result"
    }
   ],
   "source": [
    "small_cube = Cube(3)\n",
    "small_cube.volume"
   ]
  },
  {
   "cell_type": "code",
   "execution_count": 3,
   "id": "a119da3e-c0b4-403e-8fef-963eb3e7b2cc",
   "metadata": {},
   "outputs": [
    {
     "data": {
      "text/plain": [
       "125"
      ]
     },
     "execution_count": 3,
     "metadata": {},
     "output_type": "execute_result"
    }
   ],
   "source": [
    "small_cube.side = 5\n",
    "small_cube.volume"
   ]
  },
  {
   "cell_type": "markdown",
   "id": "6f3fbaa7-1e0c-442c-b105-82bf07a194b7",
   "metadata": {},
   "source": [
    "## Method Type"
   ]
  },
  {
   "cell_type": "markdown",
   "id": "d8c8c589-a10d-4f8a-8e39-c27908e66c44",
   "metadata": {},
   "source": [
    "- **Instance method**:\n",
    "  - The first argument is `self`\n",
    "- **Class Method**:\n",
    "  - `@classmethod`"
   ]
  },
  {
   "cell_type": "code",
   "execution_count": 8,
   "id": "7d84b769-e311-4c00-9bf2-23d53493795e",
   "metadata": {},
   "outputs": [],
   "source": [
    "class A:\n",
    "    count = 0\n",
    "    def __init__(self):\n",
    "        A.count += 1\n",
    "        self.instance_count += 1\n",
    "    @classmethod\n",
    "    def count_ojb(cls):\n",
    "        print(\"A has:\", cls.count)"
   ]
  },
  {
   "cell_type": "code",
   "execution_count": 7,
   "id": "6ca1ec42-80a6-46f4-b539-8905531cb904",
   "metadata": {},
   "outputs": [
    {
     "name": "stdout",
     "output_type": "stream",
     "text": [
      "A has: 3\n"
     ]
    }
   ],
   "source": [
    "a_1 = A()\n",
    "a_2 = A()\n",
    "a_3 = A()\n",
    "\n",
    "A.count_ojb()"
   ]
  },
  {
   "cell_type": "code",
   "execution_count": null,
   "id": "ef358318-04d9-41fb-b313-8e178e0f25ed",
   "metadata": {},
   "outputs": [],
   "source": [
    "A."
   ]
  }
 ],
 "metadata": {
  "kernelspec": {
   "display_name": "Python 3 (ipykernel)",
   "language": "python",
   "name": "python3"
  },
  "language_info": {
   "codemirror_mode": {
    "name": "ipython",
    "version": 3
   },
   "file_extension": ".py",
   "mimetype": "text/x-python",
   "name": "python",
   "nbconvert_exporter": "python",
   "pygments_lexer": "ipython3",
   "version": "3.12.1"
  }
 },
 "nbformat": 4,
 "nbformat_minor": 5
}

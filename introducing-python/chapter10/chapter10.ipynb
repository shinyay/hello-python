{
 "cells": [
  {
   "cell_type": "markdown",
   "id": "65c538e6-1e4f-4af0-bac4-62fbb403e422",
   "metadata": {},
   "source": [
    "# Chapter 7 - Object and Class"
   ]
  },
  {
   "cell_type": "code",
   "execution_count": 12,
   "id": "50a5ea55-5a14-4d0b-a3af-9da88830b88e",
   "metadata": {},
   "outputs": [],
   "source": [
    "class Dog:\n",
    "    pass\n",
    "\n",
    "beagle = Dog()\n",
    "dalmatian = Dog()\n",
    "\n",
    "beagle.name = 'Max'\n",
    "beagle.age = 3"
   ]
  },
  {
   "cell_type": "code",
   "execution_count": 2,
   "id": "47173aa6-847f-4645-82b6-630616b83b63",
   "metadata": {},
   "outputs": [
    {
     "data": {
      "text/plain": [
       "<__main__.Dog at 0x10a1126f0>"
      ]
     },
     "execution_count": 2,
     "metadata": {},
     "output_type": "execute_result"
    }
   ],
   "source": [
    "beagle"
   ]
  },
  {
   "cell_type": "code",
   "execution_count": 3,
   "id": "4e8badb7-3cd8-4ebd-a7f4-f3d51ca256de",
   "metadata": {},
   "outputs": [
    {
     "data": {
      "text/plain": [
       "<__main__.Dog at 0x10a1113d0>"
      ]
     },
     "execution_count": 3,
     "metadata": {},
     "output_type": "execute_result"
    }
   ],
   "source": [
    "dalmatian"
   ]
  },
  {
   "cell_type": "code",
   "execution_count": 8,
   "id": "eb029625-5e73-493a-999c-ae293eeda597",
   "metadata": {},
   "outputs": [
    {
     "data": {
      "text/plain": [
       "'Max'"
      ]
     },
     "execution_count": 8,
     "metadata": {},
     "output_type": "execute_result"
    }
   ],
   "source": [
    "beagle.name"
   ]
  },
  {
   "cell_type": "code",
   "execution_count": 9,
   "id": "8ba8facf-a574-41cb-841f-19caccb754b9",
   "metadata": {},
   "outputs": [
    {
     "data": {
      "text/plain": [
       "3"
      ]
     },
     "execution_count": 9,
     "metadata": {},
     "output_type": "execute_result"
    }
   ],
   "source": [
    "beagle.age"
   ]
  },
  {
   "cell_type": "code",
   "execution_count": 13,
   "id": "9a4ae2e6-2196-429e-aff2-507a603dd82a",
   "metadata": {},
   "outputs": [],
   "source": [
    "class Cat:\n",
    "    def __init__(self, name):\n",
    "        self.name = name"
   ]
  },
  {
   "cell_type": "code",
   "execution_count": 15,
   "id": "bc4c7064-fc03-4031-b758-4a618dd6670a",
   "metadata": {},
   "outputs": [
    {
     "data": {
      "text/plain": [
       "'kit'"
      ]
     },
     "execution_count": 15,
     "metadata": {},
     "output_type": "execute_result"
    }
   ],
   "source": [
    "percian = Cat('kit')\n",
    "percian.name"
   ]
  },
  {
   "cell_type": "markdown",
   "id": "3b41c9a4-066d-4f29-b756-84d3993aadab",
   "metadata": {},
   "source": [
    "## Inheritance"
   ]
  },
  {
   "cell_type": "code",
   "execution_count": 30,
   "id": "8ce45e8a-7d6e-4826-9f64-b296ba1c7fd1",
   "metadata": {},
   "outputs": [],
   "source": [
    "class Animal:\n",
    "    def hello(self):\n",
    "        print(\"Hello, I'm an Animal\")\n",
    "\n",
    "class Bird(Animal):\n",
    "    def hello(self):\n",
    "        print(\"Hello, I'm a Bird\")\n",
    "\n",
    "class Human(Animal):\n",
    "    def hello(self):\n",
    "        print(\"Hello, I'm a Human\")\n",
    "    def hello_from_ancestor(self):\n",
    "        super().hello()"
   ]
  },
  {
   "cell_type": "code",
   "execution_count": 17,
   "id": "8531ca22-1f25-4913-935e-434d2393c480",
   "metadata": {},
   "outputs": [
    {
     "data": {
      "text/plain": [
       "True"
      ]
     },
     "execution_count": 17,
     "metadata": {},
     "output_type": "execute_result"
    }
   ],
   "source": [
    "issubclass(Bird, Animal)"
   ]
  },
  {
   "cell_type": "code",
   "execution_count": 22,
   "id": "225f61f4-0924-4ec1-8fb4-09c6061f923c",
   "metadata": {},
   "outputs": [
    {
     "name": "stdout",
     "output_type": "stream",
     "text": [
      "Hello, I'm Animal\n"
     ]
    }
   ],
   "source": [
    "animal_instance = Animal()\n",
    "animal_instance.hello()"
   ]
  },
  {
   "cell_type": "code",
   "execution_count": 26,
   "id": "5458396f-de9f-44d7-9f6a-4005015c08d9",
   "metadata": {},
   "outputs": [
    {
     "name": "stdout",
     "output_type": "stream",
     "text": [
      "Hello, I'm Bird\n"
     ]
    }
   ],
   "source": [
    "bird_instance = Bird()\n",
    "bird_instance.hello()"
   ]
  },
  {
   "cell_type": "code",
   "execution_count": 31,
   "id": "7ff3363d-5fcf-403b-b80a-a6de58d877cb",
   "metadata": {},
   "outputs": [
    {
     "name": "stdout",
     "output_type": "stream",
     "text": [
      "Hello, I'm an Animal\n"
     ]
    }
   ],
   "source": [
    "human = Human()\n",
    "human.hello_from_ancestor()"
   ]
  }
 ],
 "metadata": {
  "kernelspec": {
   "display_name": "Python 3 (ipykernel)",
   "language": "python",
   "name": "python3"
  },
  "language_info": {
   "codemirror_mode": {
    "name": "ipython",
    "version": 3
   },
   "file_extension": ".py",
   "mimetype": "text/x-python",
   "name": "python",
   "nbconvert_exporter": "python",
   "pygments_lexer": "ipython3",
   "version": "3.12.1"
  }
 },
 "nbformat": 4,
 "nbformat_minor": 5
}

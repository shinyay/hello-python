{
 "cells": [
  {
   "cell_type": "markdown",
   "id": "2bb25820-000c-46fb-92b3-178714fad6cb",
   "metadata": {},
   "source": [
    "# Chapter 9 - Functions"
   ]
  },
  {
   "cell_type": "code",
   "execution_count": 6,
   "id": "9c3a891d-d9e2-48a2-948b-acfb4a909e3f",
   "metadata": {},
   "outputs": [
    {
     "name": "stdout",
     "output_type": "stream",
     "text": [
      "Hello, Python\n",
      "Hello, Java\n"
     ]
    }
   ],
   "source": [
    "def hello_python(language = 'Python'):\n",
    "    print('Hello, {}'.format(language))\n",
    "\n",
    "hello_python()\n",
    "hello_python('Java')\n",
    "hello_python('Java')"
   ]
  },
  {
   "cell_type": "markdown",
   "id": "9c74136b-4f38-463a-a919-c9d6e4c90a47",
   "metadata": {},
   "source": [
    "## *args and **kwargs"
   ]
  },
  {
   "cell_type": "markdown",
   "id": "7ae2326a-03bf-434b-b2f6-04e4078e6046",
   "metadata": {},
   "source": [
    "### *args\n",
    "When you pass *args as a parameter, it is treated as a tuple that contains all the positional arguments passed when you call the function."
   ]
  },
  {
   "cell_type": "code",
   "execution_count": 7,
   "id": "aa2c0bcd-0033-404f-b358-f084f44f6f96",
   "metadata": {},
   "outputs": [
    {
     "name": "stdout",
     "output_type": "stream",
     "text": [
      "Args: ('Python', 'Java', 'Kotlin', 'Rust')\n"
     ]
    }
   ],
   "source": [
    "def hello_programming(*args):\n",
    "    print('Args:', args)\n",
    "\n",
    "hello_programming('Python', 'Java', 'Kotlin', 'Rust')"
   ]
  },
  {
   "cell_type": "markdown",
   "id": "65e30b88-3fbc-4254-b54c-4256ff203531",
   "metadata": {},
   "source": [
    "### **kwargs\n",
    "kwargs stands for \"keyword arguments\". "
   ]
  },
  {
   "cell_type": "code",
   "execution_count": 14,
   "id": "8026206b-4611-45c4-8477-f451740bc438",
   "metadata": {},
   "outputs": [
    {
     "name": "stdout",
     "output_type": "stream",
     "text": [
      "Frameworks: {'Java': 'Spring', 'Python': 'Django', 'JavaScript': 'Vue'}\n"
     ]
    }
   ],
   "source": [
    "def hello_frameworks(**kwargs):\n",
    "    print('Frameworks:', kwargs)\n",
    "hello_frameworks(Java = 'Spring', Python = 'Django', JavaScript = 'Vue')"
   ]
  },
  {
   "cell_type": "code",
   "execution_count": 20,
   "id": "80a5c1e9-bfee-43d5-9481-6703901a3723",
   "metadata": {},
   "outputs": [
    {
     "name": "stdout",
     "output_type": "stream",
     "text": [
      "Default\n",
      "a\n",
      "b\n",
      "c\n",
      "d\n",
      "e\n",
      "Start = 2\n",
      "c\n",
      "d\n",
      "e\n",
      "End = 2\n",
      "a\n",
      "b\n"
     ]
    }
   ],
   "source": [
    "def print_data(data, *, start=0, end=5):\n",
    "    for value in (data[start:end]):\n",
    "        print(value)\n",
    "\n",
    "data = ['a', 'b', 'c', 'd', 'e', 'f', 'g', 'h']\n",
    "print('Default')\n",
    "print_data(data)\n",
    "\n",
    "print('Start = 2')\n",
    "print_data(data, start=2)\n",
    "\n",
    "\n",
    "print('End = 2')\n",
    "print_data(data, end=2)"
   ]
  },
  {
   "cell_type": "markdown",
   "id": "b04de26c-9269-4c6d-a1db-b5b6abed2929",
   "metadata": {},
   "source": [
    "## Functions as First class citizens in Python"
   ]
  },
  {
   "cell_type": "code",
   "execution_count": 21,
   "id": "db8ba55c-77b4-494c-8ad4-8da712b1595e",
   "metadata": {},
   "outputs": [
    {
     "name": "stdout",
     "output_type": "stream",
     "text": [
      "Hello, Python\n"
     ]
    }
   ],
   "source": [
    "def call_func(func):\n",
    "    func()\n",
    "call_func(hello_python)"
   ]
  },
  {
   "cell_type": "code",
   "execution_count": 22,
   "id": "2527d034-e012-402b-a98e-6445e3925fb5",
   "metadata": {},
   "outputs": [
    {
     "ename": "TypeError",
     "evalue": "call_func() takes 1 positional argument but 2 were given",
     "output_type": "error",
     "traceback": [
      "\u001b[0;31m---------------------------------------------------------------------------\u001b[0m",
      "\u001b[0;31mTypeError\u001b[0m                                 Traceback (most recent call last)",
      "Cell \u001b[0;32mIn[22], line 1\u001b[0m\n\u001b[0;32m----> 1\u001b[0m \u001b[43mcall_func\u001b[49m\u001b[43m(\u001b[49m\u001b[43mhello_python\u001b[49m\u001b[43m,\u001b[49m\u001b[43m \u001b[49m\u001b[38;5;124;43m'\u001b[39;49m\u001b[38;5;124;43mJava\u001b[39;49m\u001b[38;5;124;43m'\u001b[39;49m\u001b[43m)\u001b[49m\n",
      "\u001b[0;31mTypeError\u001b[0m: call_func() takes 1 positional argument but 2 were given"
     ]
    }
   ],
   "source": [
    "call_func(hello_python, 'Java')"
   ]
  }
 ],
 "metadata": {
  "kernelspec": {
   "display_name": "Python 3 (ipykernel)",
   "language": "python",
   "name": "python3"
  },
  "language_info": {
   "codemirror_mode": {
    "name": "ipython",
    "version": 3
   },
   "file_extension": ".py",
   "mimetype": "text/x-python",
   "name": "python",
   "nbconvert_exporter": "python",
   "pygments_lexer": "ipython3",
   "version": "3.12.1"
  }
 },
 "nbformat": 4,
 "nbformat_minor": 5
}

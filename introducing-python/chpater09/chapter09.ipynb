{
 "cells": [
  {
   "cell_type": "markdown",
   "id": "2bb25820-000c-46fb-92b3-178714fad6cb",
   "metadata": {},
   "source": [
    "# Chapter 9 - Functions"
   ]
  },
  {
   "cell_type": "code",
   "execution_count": 6,
   "id": "9c3a891d-d9e2-48a2-948b-acfb4a909e3f",
   "metadata": {},
   "outputs": [
    {
     "name": "stdout",
     "output_type": "stream",
     "text": [
      "Hello, Python\n",
      "Hello, Java\n"
     ]
    }
   ],
   "source": [
    "def hello_python(language = 'Python'):\n",
    "    print('Hello, {}'.format(language))\n",
    "\n",
    "hello_python()\n",
    "hello_python('Java')\n",
    "hello_python('Java')"
   ]
  },
  {
   "cell_type": "markdown",
   "id": "9c74136b-4f38-463a-a919-c9d6e4c90a47",
   "metadata": {},
   "source": [
    "## *args and **kwargs"
   ]
  },
  {
   "cell_type": "markdown",
   "id": "7ae2326a-03bf-434b-b2f6-04e4078e6046",
   "metadata": {},
   "source": [
    "### *args\n",
    "When you pass *args as a parameter, it is treated as a tuple that contains all the positional arguments passed when you call the function."
   ]
  },
  {
   "cell_type": "code",
   "execution_count": 7,
   "id": "aa2c0bcd-0033-404f-b358-f084f44f6f96",
   "metadata": {},
   "outputs": [
    {
     "name": "stdout",
     "output_type": "stream",
     "text": [
      "Args: ('Python', 'Java', 'Kotlin', 'Rust')\n"
     ]
    }
   ],
   "source": [
    "def hello_programming(*args):\n",
    "    print('Args:', args)\n",
    "\n",
    "hello_programming('Python', 'Java', 'Kotlin', 'Rust')"
   ]
  },
  {
   "cell_type": "markdown",
   "id": "65e30b88-3fbc-4254-b54c-4256ff203531",
   "metadata": {},
   "source": [
    "### **kwargs\n",
    "kwargs stands for \"keyword arguments\". "
   ]
  },
  {
   "cell_type": "code",
   "execution_count": 14,
   "id": "8026206b-4611-45c4-8477-f451740bc438",
   "metadata": {},
   "outputs": [
    {
     "name": "stdout",
     "output_type": "stream",
     "text": [
      "Frameworks: {'Java': 'Spring', 'Python': 'Django', 'JavaScript': 'Vue'}\n"
     ]
    }
   ],
   "source": [
    "def hello_frameworks(**kwargs):\n",
    "    print('Frameworks:', kwargs)\n",
    "hello_frameworks(Java = 'Spring', Python = 'Django', JavaScript = 'Vue')"
   ]
  },
  {
   "cell_type": "code",
   "execution_count": 20,
   "id": "80a5c1e9-bfee-43d5-9481-6703901a3723",
   "metadata": {},
   "outputs": [
    {
     "name": "stdout",
     "output_type": "stream",
     "text": [
      "Default\n",
      "a\n",
      "b\n",
      "c\n",
      "d\n",
      "e\n",
      "Start = 2\n",
      "c\n",
      "d\n",
      "e\n",
      "End = 2\n",
      "a\n",
      "b\n"
     ]
    }
   ],
   "source": [
    "def print_data(data, *, start=0, end=5):\n",
    "    for value in (data[start:end]):\n",
    "        print(value)\n",
    "\n",
    "data = ['a', 'b', 'c', 'd', 'e', 'f', 'g', 'h']\n",
    "print('Default')\n",
    "print_data(data)\n",
    "\n",
    "print('Start = 2')\n",
    "print_data(data, start=2)\n",
    "\n",
    "\n",
    "print('End = 2')\n",
    "print_data(data, end=2)"
   ]
  },
  {
   "cell_type": "markdown",
   "id": "b04de26c-9269-4c6d-a1db-b5b6abed2929",
   "metadata": {},
   "source": [
    "## Functions as First class citizens in Python"
   ]
  },
  {
   "cell_type": "code",
   "execution_count": 21,
   "id": "db8ba55c-77b4-494c-8ad4-8da712b1595e",
   "metadata": {},
   "outputs": [
    {
     "name": "stdout",
     "output_type": "stream",
     "text": [
      "Hello, Python\n"
     ]
    }
   ],
   "source": [
    "def call_func(func):\n",
    "    func()\n",
    "call_func(hello_python)"
   ]
  },
  {
   "cell_type": "code",
   "execution_count": 23,
   "id": "2527d034-e012-402b-a98e-6445e3925fb5",
   "metadata": {},
   "outputs": [
    {
     "name": "stdout",
     "output_type": "stream",
     "text": [
      "Hello, Java\n"
     ]
    }
   ],
   "source": [
    "def call_func_with_arg(func, arg):\n",
    "    func(arg)\n",
    "\n",
    "call_func_with_arg(hello_python, 'Java')ß"
   ]
  },
  {
   "cell_type": "markdown",
   "id": "b9922a20-5802-4129-9fa4-15da68f2150c",
   "metadata": {},
   "source": [
    "## Functions in Function"
   ]
  },
  {
   "cell_type": "code",
   "execution_count": 28,
   "id": "06221d82-06a6-4fc9-9fa6-83e2961e0459",
   "metadata": {},
   "outputs": [
    {
     "name": "stdout",
     "output_type": "stream",
     "text": [
      "3\n",
      "2\n",
      "30\n",
      "200\n"
     ]
    },
    {
     "data": {
      "text/plain": [
       "230"
      ]
     },
     "execution_count": 28,
     "metadata": {},
     "output_type": "execute_result"
    }
   ],
   "source": [
    "def outer_func_with_innerfunc(arg1, arg2):\n",
    "    def inner_func1(arg3, arg4):\n",
    "        return arg3 + arg4\n",
    "    def inner_func2(arg5, arg6):\n",
    "        return arg5 * arg6\n",
    "        \n",
    "    print(inner_func1(arg1, arg2))\n",
    "    print(inner_func2(arg1, arg2))\n",
    "    return inner_func1(arg1, arg2) + inner_func2(arg1, arg2)\n",
    "\n",
    "outer_func_with_innerfunc(1, 2)\n",
    "outer_func_with_innerfunc(10, 20)"
   ]
  },
  {
   "cell_type": "markdown",
   "id": "dfe0889e-b5aa-4594-840a-89981703444c",
   "metadata": {},
   "source": [
    "## Closure"
   ]
  },
  {
   "cell_type": "code",
   "execution_count": 45,
   "id": "6c9af767-e8c8-48bf-9aa8-3870b1db52b2",
   "metadata": {},
   "outputs": [
    {
     "data": {
      "text/plain": [
       "'Hello, Closure'"
      ]
     },
     "execution_count": 45,
     "metadata": {},
     "output_type": "execute_result"
    }
   ],
   "source": [
    "def outer_func_witn_closure(arg = 'Closure'):\n",
    "    def closure_func(closure_arg = arg):\n",
    "        return f\"Hello, {closure_arg}\"\n",
    "    return closure_func\n",
    "\n",
    "my_func = outer_func_witn_closure()\n",
    "\n",
    "my_func()"
   ]
  },
  {
   "cell_type": "code",
   "execution_count": 46,
   "id": "e1eed764-b9fa-4e4a-9f32-7082279c9b86",
   "metadata": {},
   "outputs": [
    {
     "data": {
      "text/plain": [
       "'Hello, Pythonc'"
      ]
     },
     "execution_count": 46,
     "metadata": {},
     "output_type": "execute_result"
    }
   ],
   "source": [
    "my_func('Pythonc')"
   ]
  }
 ],
 "metadata": {
  "kernelspec": {
   "display_name": "Python 3 (ipykernel)",
   "language": "python",
   "name": "python3"
  },
  "language_info": {
   "codemirror_mode": {
    "name": "ipython",
    "version": 3
   },
   "file_extension": ".py",
   "mimetype": "text/x-python",
   "name": "python",
   "nbconvert_exporter": "python",
   "pygments_lexer": "ipython3",
   "version": "3.12.1"
  }
 },
 "nbformat": 4,
 "nbformat_minor": 5
}

{
 "cells": [
  {
   "cell_type": "markdown",
   "id": "2bb25820-000c-46fb-92b3-178714fad6cb",
   "metadata": {},
   "source": [
    "# Chapter 9 - Functions"
   ]
  },
  {
   "cell_type": "code",
   "execution_count": 6,
   "id": "9c3a891d-d9e2-48a2-948b-acfb4a909e3f",
   "metadata": {},
   "outputs": [
    {
     "name": "stdout",
     "output_type": "stream",
     "text": [
      "Hello, Python\n",
      "Hello, Java\n"
     ]
    }
   ],
   "source": [
    "def hello_python(language = 'Python'):\n",
    "    print('Hello, {}'.format(language))\n",
    "\n",
    "hello_python()\n",
    "hello_python('Java')\n",
    "hello_python('Java')"
   ]
  },
  {
   "cell_type": "markdown",
   "id": "7ae2326a-03bf-434b-b2f6-04e4078e6046",
   "metadata": {},
   "source": [
    "## *args\n",
    "When you pass *args as a parameter, it is treated as a tuple that contains all the positional arguments passed when you call the function."
   ]
  },
  {
   "cell_type": "code",
   "execution_count": 7,
   "id": "aa2c0bcd-0033-404f-b358-f084f44f6f96",
   "metadata": {},
   "outputs": [
    {
     "name": "stdout",
     "output_type": "stream",
     "text": [
      "Args: ('Python', 'Java', 'Kotlin', 'Rust')\n"
     ]
    }
   ],
   "source": [
    "def hello_programming(*args):\n",
    "    print('Args:', args)\n",
    "\n",
    "hello_programming('Python', 'Java', 'Kotlin', 'Rust')"
   ]
  },
  {
   "cell_type": "markdown",
   "id": "65e30b88-3fbc-4254-b54c-4256ff203531",
   "metadata": {},
   "source": [
    "## **kwargs\n",
    "kwargs stands for \"keyword arguments\". "
   ]
  },
  {
   "cell_type": "code",
   "execution_count": 11,
   "id": "8026206b-4611-45c4-8477-f451740bc438",
   "metadata": {},
   "outputs": [
    {
     "name": "stdout",
     "output_type": "stream",
     "text": [
      "Frameworks: {'Java': 'Spring', 'Python': 'Django', 'JavaScript': 'Vue'}\n"
     ]
    }
   ],
   "source": [
    "def hello_frameworks(**kwargs):\n",
    "    print('Frameworks:', kwargs)\n",
    "hello_frameworks(Java = 'Spring', Python = 'Django', JavaScript = 'Vue')"
   ]
  }
 ],
 "metadata": {
  "kernelspec": {
   "display_name": "Python 3 (ipykernel)",
   "language": "python",
   "name": "python3"
  },
  "language_info": {
   "codemirror_mode": {
    "name": "ipython",
    "version": 3
   },
   "file_extension": ".py",
   "mimetype": "text/x-python",
   "name": "python",
   "nbconvert_exporter": "python",
   "pygments_lexer": "ipython3",
   "version": "3.12.1"
  }
 },
 "nbformat": 4,
 "nbformat_minor": 5
}

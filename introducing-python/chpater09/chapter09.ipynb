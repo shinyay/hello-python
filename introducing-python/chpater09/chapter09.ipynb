{
 "cells": [
  {
   "cell_type": "markdown",
   "id": "2bb25820-000c-46fb-92b3-178714fad6cb",
   "metadata": {},
   "source": [
    "# Chapter 9 - Functions"
   ]
  },
  {
   "cell_type": "code",
   "execution_count": 3,
   "id": "9c3a891d-d9e2-48a2-948b-acfb4a909e3f",
   "metadata": {},
   "outputs": [
    {
     "name": "stdout",
     "output_type": "stream",
     "text": [
      "Hello, Python\n"
     ]
    }
   ],
   "source": [
    "def hello_python(language):\n",
    "    print('Hello, {}'.format())\n",
    "\n",
    "hello_python()"
   ]
  }
 ],
 "metadata": {
  "kernelspec": {
   "display_name": "Python 3 (ipykernel)",
   "language": "python",
   "name": "python3"
  },
  "language_info": {
   "codemirror_mode": {
    "name": "ipython",
    "version": 3
   },
   "file_extension": ".py",
   "mimetype": "text/x-python",
   "name": "python",
   "nbconvert_exporter": "python",
   "pygments_lexer": "ipython3",
   "version": "3.12.1"
  }
 },
 "nbformat": 4,
 "nbformat_minor": 5
}

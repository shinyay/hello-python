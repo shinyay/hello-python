{
 "cells": [
  {
   "cell_type": "markdown",
   "id": "6ebf985a-54e6-49b3-bbd0-9fb411d24fba",
   "metadata": {},
   "source": [
    "# Module, Package, Standard Library"
   ]
  },
  {
   "cell_type": "markdown",
   "id": "10518c16-4565-4453-9651-a25f20720374",
   "metadata": {},
   "source": [
    "## Module"
   ]
  },
  {
   "cell_type": "markdown",
   "id": "7944daae-ec50-4e7b-b861-21aaaf3e8f56",
   "metadata": {},
   "source": [
    "week.py\n",
    "```python\n",
    "from random import choice\n",
    "\n",
    "days = ['Mon', 'Tue', 'Wed', 'Thu', 'Fri', 'Sat', 'Sun']\n",
    "\n",
    "def choose_day():\n",
    "    \"\"\"Return the raondom day\"\"\"\n",
    "    return choice(days)\n",
    "```"
   ]
  },
  {
   "cell_type": "code",
   "execution_count": 5,
   "id": "b2fe12b7-ca83-4b62-b743-6fb77dc28117",
   "metadata": {},
   "outputs": [
    {
     "name": "stdout",
     "output_type": "stream",
     "text": [
      "Thu\n"
     ]
    }
   ],
   "source": [
    "import week\n",
    "\n",
    "print('The Day: {}'.format(week.choose_day()))"
   ]
  },
  {
   "cell_type": "code",
   "execution_count": 7,
   "id": "c93c5f4c-e2e5-4d09-830e-d4a6ced5c873",
   "metadata": {},
   "outputs": [
    {
     "name": "stdout",
     "output_type": "stream",
     "text": [
      "Fri\n"
     ]
    }
   ],
   "source": [
    "import week as w\n",
    "\n",
    "print('The Day: {}'.format(w.choose_day()))"
   ]
  },
  {
   "cell_type": "markdown",
   "id": "044aae18-310d-4d4f-832f-82eb587f8b1d",
   "metadata": {},
   "source": [
    "## Package"
   ]
  },
  {
   "cell_type": "code",
   "execution_count": 11,
   "id": "f22f07b1-210d-4431-b2d9-b72163d284a0",
   "metadata": {},
   "outputs": [
    {
     "name": "stdout",
     "output_type": "stream",
     "text": [
      "The : Nov\n"
     ]
    }
   ],
   "source": [
    "from chapter11_1 import month\n",
    "\n",
    "print('The Month : {}'.format(month.choose_month()))"
   ]
  }
 ],
 "metadata": {
  "kernelspec": {
   "display_name": "Python 3 (ipykernel)",
   "language": "python",
   "name": "python3"
  },
  "language_info": {
   "codemirror_mode": {
    "name": "ipython",
    "version": 3
   },
   "file_extension": ".py",
   "mimetype": "text/x-python",
   "name": "python",
   "nbconvert_exporter": "python",
   "pygments_lexer": "ipython3",
   "version": "3.12.1"
  }
 },
 "nbformat": 4,
 "nbformat_minor": 5
}

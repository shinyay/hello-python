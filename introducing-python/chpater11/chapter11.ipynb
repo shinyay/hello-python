{
 "cells": [
  {
   "cell_type": "markdown",
   "id": "6ebf985a-54e6-49b3-bbd0-9fb411d24fba",
   "metadata": {},
   "source": [
    "# Module, Package, Standard Library"
   ]
  },
  {
   "cell_type": "markdown",
   "id": "10518c16-4565-4453-9651-a25f20720374",
   "metadata": {},
   "source": [
    "## Module"
   ]
  },
  {
   "cell_type": "code",
   "execution_count": 5,
   "id": "b2fe12b7-ca83-4b62-b743-6fb77dc28117",
   "metadata": {},
   "outputs": [
    {
     "name": "stdout",
     "output_type": "stream",
     "text": [
      "Thu\n"
     ]
    }
   ],
   "source": [
    "import week\n",
    "\n",
    "print('{}'.format(week.choose_day()))"
   ]
  }
 ],
 "metadata": {
  "kernelspec": {
   "display_name": "Python 3 (ipykernel)",
   "language": "python",
   "name": "python3"
  },
  "language_info": {
   "codemirror_mode": {
    "name": "ipython",
    "version": 3
   },
   "file_extension": ".py",
   "mimetype": "text/x-python",
   "name": "python",
   "nbconvert_exporter": "python",
   "pygments_lexer": "ipython3",
   "version": "3.12.1"
  }
 },
 "nbformat": 4,
 "nbformat_minor": 5
}

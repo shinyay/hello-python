{
 "cells": [
  {
   "cell_type": "markdown",
   "id": "6ebf985a-54e6-49b3-bbd0-9fb411d24fba",
   "metadata": {},
   "source": [
    "# Module, Package, Standard Library"
   ]
  },
  {
   "cell_type": "markdown",
   "id": "10518c16-4565-4453-9651-a25f20720374",
   "metadata": {},
   "source": [
    "## Module"
   ]
  },
  {
   "cell_type": "markdown",
   "id": "7944daae-ec50-4e7b-b861-21aaaf3e8f56",
   "metadata": {},
   "source": [
    "week.py\n",
    "```python\n",
    "from random import choice\n",
    "\n",
    "days = ['Mon', 'Tue', 'Wed', 'Thu', 'Fri', 'Sat', 'Sun']\n",
    "\n",
    "def choose_day():\n",
    "    \"\"\"Return the raondom day\"\"\"\n",
    "    return choice(days)\n",
    "```"
   ]
  },
  {
   "cell_type": "code",
   "execution_count": 14,
   "id": "b2fe12b7-ca83-4b62-b743-6fb77dc28117",
   "metadata": {},
   "outputs": [
    {
     "name": "stdout",
     "output_type": "stream",
     "text": [
      "The Day: Sun\n"
     ]
    }
   ],
   "source": [
    "import week\n",
    "\n",
    "print('The Day: {}'.format(week.choose_day()))"
   ]
  },
  {
   "cell_type": "code",
   "execution_count": 13,
   "id": "c93c5f4c-e2e5-4d09-830e-d4a6ced5c873",
   "metadata": {},
   "outputs": [
    {
     "name": "stdout",
     "output_type": "stream",
     "text": [
      "The Day: Mon\n"
     ]
    }
   ],
   "source": [
    "import week as w\n",
    "\n",
    "print('The Day: {}'.format(w.choose_day()))"
   ]
  },
  {
   "cell_type": "markdown",
   "id": "044aae18-310d-4d4f-832f-82eb587f8b1d",
   "metadata": {},
   "source": [
    "## Package"
   ]
  },
  {
   "cell_type": "code",
   "execution_count": 12,
   "id": "f22f07b1-210d-4431-b2d9-b72163d284a0",
   "metadata": {},
   "outputs": [
    {
     "name": "stdout",
     "output_type": "stream",
     "text": [
      "The Month : Aug\n"
     ]
    }
   ],
   "source": [
    "from chapter11_1 import month\n",
    "\n",
    "print('The Month : {}'.format(month.choose_month()))"
   ]
  },
  {
   "cell_type": "markdown",
   "id": "ffbe8d7d-3f43-4daa-a7e2-46776bc15dab",
   "metadata": {},
   "source": [
    "## Module or Object\n",
    "\n",
    "### Use Modules when:\n",
    "\n",
    "1. **Separation of Concerns:**\n",
    "   - If you want to organize your code into separate files to manage different concerns or functionalities, modules are a good choice.\n",
    "   - Modules help maintain a clean and modular codebase by allowing you to group related functions and variables together.\n",
    "\n",
    "2. **Code Reusability:**\n",
    "   - If you have functions or variables that can be reused across different parts of your program or in other programs, modules provide a way to encapsulate and share that functionality.\n",
    "\n",
    "3. **Global Variables:**\n",
    "   - If you have global variables that need to be shared across different parts of your code, placing them in a module can help manage their scope and accessibility.\n",
    "\n",
    "4. **Namespace Isolation:**\n",
    "   - Modules provide a way to create separate namespaces, which can help avoid naming conflicts between different parts of your program.\n",
    "\n",
    "### Use Objects when:\n",
    "\n",
    "1. **Encapsulation:**\n",
    "   - If you want to encapsulate data and behavior into a single unit, classes and objects are a natural choice. This is a key principle of object-oriented programming (OOP).\n",
    "\n",
    "2. **Abstraction:**\n",
    "   - If you want to abstract away implementation details and expose a clean interface, classes allow you to define a public API while hiding the internal workings.\n",
    "\n",
    "3. **Inheritance and Polymorphism:**\n",
    "   - If your problem domain involves relationships between entities and you want to use concepts like inheritance and polymorphism, classes are essential.\n",
    "\n",
    "4. **Stateful Operations:**\n",
    "   - If your program requires maintaining state over time, classes are a good fit. Objects can encapsulate state and behavior together.\n",
    "\n",
    "5. **Code Organization:**\n",
    "   - If your program has a natural hierarchy or structure that can be represented through a class hierarchy, using objects makes the code more organized and readable.\n",
    "\n",
    "### General Guidelines:\n",
    "\n",
    "1. **Mix and Match:**\n",
    "   - It's common to use both modules and objects in a program. Modules can contain utility functions and variables, while objects represent entities and their behaviors.\n",
    "\n",
    "2. **Design Patterns:**\n",
    "   - Consider design patterns, such as the SOLID principles in OOP, to guide your design decisions. These principles help create maintainable and scalable code.\n",
    "\n",
    "3. **Readability and Maintainability:**\n",
    "   - Choose the approach that makes your code more readable and maintainable. Consider the future needs of your project and how easy it will be for others (or yourself) to understand and modify the code."
   ]
  },
  {
   "cell_type": "markdown",
   "id": "52acd37e-d2b3-44e6-be2e-90da28bf0306",
   "metadata": {},
   "source": [
    "## Standard Library\n",
    "\n",
    "- [The Python 3 Standard Library by Example, Second Edition](https://learning.oreilly.com/library/view/the-python-3/9780134291154/)\n",
    "- [Python Module of the Week](http://pymotw.com/2/contents.html)"
   ]
  },
  {
   "cell_type": "code",
   "execution_count": 11,
   "id": "00ccf7cc-4fd7-4d04-9377-103abaf5d895",
   "metadata": {},
   "outputs": [
    {
     "name": "stdout",
     "output_type": "stream",
     "text": [
      "arjgixcizqsyzrpvczkbefrqqtwlhtgvlklchcfjsrvvxqacqz\n"
     ]
    }
   ],
   "source": [
    "# Random characters\n",
    "\n",
    "import random\n",
    "import string\n",
    "\n",
    "n = 50\n",
    "val_str = ''.join([random.choice(string.ascii_lowercase) for i in range(n)])\n",
    "print(val_str)"
   ]
  },
  {
   "cell_type": "code",
   "execution_count": 19,
   "id": "324f18b9-0ea0-42b0-997f-a7fd0ebb897a",
   "metadata": {},
   "outputs": [
    {
     "name": "stdout",
     "output_type": "stream",
     "text": [
      "<class 'dict'>\n"
     ]
    },
    {
     "ename": "KeyError",
     "evalue": "'a'",
     "output_type": "error",
     "traceback": [
      "\u001b[0;31m---------------------------------------------------------------------------\u001b[0m",
      "\u001b[0;31mKeyError\u001b[0m                                  Traceback (most recent call last)",
      "Cell \u001b[0;32mIn[19], line 5\u001b[0m\n\u001b[1;32m      2\u001b[0m \u001b[38;5;28mprint\u001b[39m(\u001b[38;5;28mtype\u001b[39m(d))  \u001b[38;5;66;03m# <class 'dict'>\u001b[39;00m\n\u001b[1;32m      4\u001b[0m \u001b[38;5;28;01mfor\u001b[39;00m key \u001b[38;5;129;01min\u001b[39;00m val_str:\n\u001b[0;32m----> 5\u001b[0m     \u001b[43md\u001b[49m\u001b[43m[\u001b[49m\u001b[43mkey\u001b[49m\u001b[43m]\u001b[49m \u001b[38;5;241m+\u001b[39m\u001b[38;5;241m=\u001b[39m \u001b[38;5;241m1\u001b[39m\n",
      "\u001b[0;31mKeyError\u001b[0m: 'a'"
     ]
    }
   ],
   "source": [
    "d = {}\n",
    "print(type(d))  # <class 'dict'>\n",
    "\n",
    "for key in val_str:\n",
    "    d[key] += 1\n"
   ]
  },
  {
   "cell_type": "code",
   "execution_count": 23,
   "id": "d71b3725-56a5-4c74-8e65-02c455509aa8",
   "metadata": {},
   "outputs": [
    {
     "name": "stdout",
     "output_type": "stream",
     "text": [
      "<class 'dict'>\n",
      "{'a': 2, 'r': 4, 'j': 2, 'g': 2, 'i': 2, 'x': 2, 'c': 5, 'z': 4, 'q': 5, 's': 2, 'y': 1, 'p': 1, 'v': 4, 'k': 2, 'b': 1, 'e': 1, 'f': 2, 't': 2, 'w': 1, 'l': 3, 'h': 2}\n"
     ]
    }
   ],
   "source": [
    "d = {}\n",
    "print(type(d))  # <class 'dict'>\n",
    "\n",
    "for key in val_str:\n",
    "    if key not in d:\n",
    "        d[key] = 0\n",
    "    d[key] += 1\n",
    "\n",
    "print(d)"
   ]
  },
  {
   "cell_type": "code",
   "execution_count": 26,
   "id": "6da83c81-c9e0-46d3-8162-54ee8655349e",
   "metadata": {},
   "outputs": [
    {
     "name": "stdout",
     "output_type": "stream",
     "text": [
      "<class 'collections.defaultdict'>\n",
      "defaultdict(<class 'int'>, {'a': 2, 'r': 4, 'j': 2, 'g': 2, 'i': 2, 'x': 2, 'c': 5, 'z': 4, 'q': 5, 's': 2, 'y': 1, 'p': 1, 'v': 4, 'k': 2, 'b': 1, 'e': 1, 'f': 2, 't': 2, 'w': 1, 'l': 3, 'h': 2})\n"
     ]
    }
   ],
   "source": [
    "from collections import defaultdict\n",
    "d = defaultdict(int)\n",
    "print(type(d))  # <class 'collections.defaultdict'>\n",
    "\n",
    "for key in val_str:\n",
    "    d[key] += 1\n",
    "\n",
    "print(d)"
   ]
  },
  {
   "cell_type": "code",
   "execution_count": 27,
   "id": "93a33bd4-80b6-439f-a0a0-83e7f63c53bb",
   "metadata": {},
   "outputs": [
    {
     "name": "stdout",
     "output_type": "stream",
     "text": [
      "<class 'collections.defaultdict'>\n",
      "defaultdict(<function <lambda> at 0x10e199a80>, {'a': 2, 'r': 4, 'j': 2, 'g': 2, 'i': 2, 'x': 2, 'c': 5, 'z': 4, 'q': 5, 's': 2, 'y': 1, 'p': 1, 'v': 4, 'k': 2, 'b': 1, 'e': 1, 'f': 2, 't': 2, 'w': 1, 'l': 3, 'h': 2})\n"
     ]
    }
   ],
   "source": [
    "from collections import defaultdict\n",
    "d = defaultdict(lambda: 0)\n",
    "print(type(d))  # <class 'collections.defaultdict'>\n",
    "\n",
    "for key in val_str:\n",
    "    d[key] += 1\n",
    "\n",
    "print(d)"
   ]
  },
  {
   "cell_type": "code",
   "execution_count": 38,
   "id": "462605b1-2455-4fde-baef-650e5bc32ee2",
   "metadata": {},
   "outputs": [
    {
     "name": "stdout",
     "output_type": "stream",
     "text": [
      "['x', 'o', 'f', 'e', 'j', 'j', 'x', 'o', 'n', 'x', 'i', 't', 'u', 's', 'y', 'i', 'f', 'd', 'q', 't', 'y', 'a', 'p', 'g', 'k', 'q', 'z', 'i', 'a', 'c', 'c', 'l', 'n', 'i', 'w', 'l', 'u', 'o', 'o', 'l', 'd', 'w', 'r', 'z', 'w', 'n', 'l', 'k', 'c', 'd']\n"
     ]
    }
   ],
   "source": [
    "# Random characters in List\n",
    "\n",
    "import random\n",
    "import string\n",
    "\n",
    "n = 50\n",
    "val_list = [random.choice(string.ascii_lowercase) for i in range(n)]\n",
    "print(val_list)\n",
    "val_list2 = [random.choice(string.ascii_lowercase) for i in range(n)]"
   ]
  },
  {
   "cell_type": "code",
   "execution_count": 41,
   "id": "72759df1-dd07-45a1-bc6f-ffbbee8d559f",
   "metadata": {},
   "outputs": [
    {
     "data": {
      "text/plain": [
       "Counter({'o': 4,\n",
       "         'i': 4,\n",
       "         'l': 4,\n",
       "         'x': 3,\n",
       "         'n': 3,\n",
       "         'd': 3,\n",
       "         'c': 3,\n",
       "         'w': 3,\n",
       "         'f': 2,\n",
       "         'j': 2,\n",
       "         't': 2,\n",
       "         'u': 2,\n",
       "         'y': 2,\n",
       "         'q': 2,\n",
       "         'a': 2,\n",
       "         'k': 2,\n",
       "         'z': 2,\n",
       "         'e': 1,\n",
       "         's': 1,\n",
       "         'p': 1,\n",
       "         'g': 1,\n",
       "         'r': 1})"
      ]
     },
     "execution_count": 41,
     "metadata": {},
     "output_type": "execute_result"
    }
   ],
   "source": [
    "from collections import Counter\n",
    "char_counter = Counter(val_list)\n",
    "char_counter2 = Counter(val_list2)\n",
    "char_counter"
   ]
  },
  {
   "cell_type": "code",
   "execution_count": 40,
   "id": "dff24c6a-d29b-402d-8cd3-e12e97a12759",
   "metadata": {},
   "outputs": [
    {
     "data": {
      "text/plain": [
       "[('o', 4)]"
      ]
     },
     "execution_count": 40,
     "metadata": {},
     "output_type": "execute_result"
    }
   ],
   "source": [
    "from collections import Counter\n",
    "char_counter = Counter(val_list)\n",
    "char_counter.most_common(1)"
   ]
  },
  {
   "cell_type": "code",
   "execution_count": 43,
   "id": "20bdf89c-fe52-48e1-bbe5-310d1c102632",
   "metadata": {},
   "outputs": [
    {
     "data": {
      "text/plain": [
       "Counter({'o': 6,\n",
       "         'c': 6,\n",
       "         'l': 6,\n",
       "         'x': 5,\n",
       "         'e': 5,\n",
       "         'i': 5,\n",
       "         'y': 5,\n",
       "         'd': 5,\n",
       "         'w': 5,\n",
       "         'h': 5,\n",
       "         'n': 4,\n",
       "         't': 4,\n",
       "         'u': 4,\n",
       "         'q': 4,\n",
       "         'k': 4,\n",
       "         'j': 3,\n",
       "         'a': 3,\n",
       "         'g': 3,\n",
       "         'z': 3,\n",
       "         'r': 3,\n",
       "         'b': 3,\n",
       "         'f': 2,\n",
       "         's': 2,\n",
       "         'p': 2,\n",
       "         'v': 2,\n",
       "         'm': 1})"
      ]
     },
     "execution_count": 43,
     "metadata": {},
     "output_type": "execute_result"
    }
   ],
   "source": [
    "char_counter + char_counter2"
   ]
  },
  {
   "cell_type": "code",
   "execution_count": 44,
   "id": "2d02c8b1-fb06-4439-916d-d5571d6f6cbc",
   "metadata": {},
   "outputs": [
    {
     "data": {
      "text/plain": [
       "Counter({'i': 3,\n",
       "         'o': 2,\n",
       "         'f': 2,\n",
       "         'n': 2,\n",
       "         'l': 2,\n",
       "         'x': 1,\n",
       "         'j': 1,\n",
       "         'd': 1,\n",
       "         'a': 1,\n",
       "         'z': 1,\n",
       "         'w': 1})"
      ]
     },
     "execution_count": 44,
     "metadata": {},
     "output_type": "execute_result"
    }
   ],
   "source": [
    "char_counter - char_counter2"
   ]
  },
  {
   "cell_type": "code",
   "execution_count": 45,
   "id": "db2e2a6f-d849-40f0-bb9a-e2de32d750da",
   "metadata": {},
   "outputs": [
    {
     "data": {
      "text/plain": [
       "Counter({'c': 3,\n",
       "         'x': 2,\n",
       "         'o': 2,\n",
       "         't': 2,\n",
       "         'u': 2,\n",
       "         'y': 2,\n",
       "         'd': 2,\n",
       "         'q': 2,\n",
       "         'k': 2,\n",
       "         'l': 2,\n",
       "         'w': 2,\n",
       "         'e': 1,\n",
       "         'j': 1,\n",
       "         'n': 1,\n",
       "         'i': 1,\n",
       "         's': 1,\n",
       "         'a': 1,\n",
       "         'p': 1,\n",
       "         'g': 1,\n",
       "         'z': 1,\n",
       "         'r': 1})"
      ]
     },
     "execution_count": 45,
     "metadata": {},
     "output_type": "execute_result"
    }
   ],
   "source": [
    "char_counter & char_counter2"
   ]
  }
 ],
 "metadata": {
  "kernelspec": {
   "display_name": "Python 3 (ipykernel)",
   "language": "python",
   "name": "python3"
  },
  "language_info": {
   "codemirror_mode": {
    "name": "ipython",
    "version": 3
   },
   "file_extension": ".py",
   "mimetype": "text/x-python",
   "name": "python",
   "nbconvert_exporter": "python",
   "pygments_lexer": "ipython3",
   "version": "3.12.1"
  }
 },
 "nbformat": 4,
 "nbformat_minor": 5
}
